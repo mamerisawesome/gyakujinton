{
 "cells": [
  {
   "cell_type": "markdown",
   "metadata": {},
   "source": [
    "# Dataset Generation from Pokemon Images"
   ]
  },
  {
   "cell_type": "code",
   "execution_count": 1,
   "metadata": {},
   "outputs": [],
   "source": [
    "import os\n",
    "import numpy as np\n",
    "import gyakujinton as gj"
   ]
  },
  {
   "cell_type": "code",
   "execution_count": 2,
   "metadata": {},
   "outputs": [],
   "source": [
    "POKEMON_DATASET_PATH = \"../sample/pokemon-images-and-types/images\"\n",
    "POKEMON_OUTPUT_PATH = \"./output\""
   ]
  },
  {
   "cell_type": "code",
   "execution_count": 3,
   "metadata": {},
   "outputs": [],
   "source": [
    "pokemons = os.listdir(POKEMON_DATASET_PATH)"
   ]
  },
  {
   "cell_type": "code",
   "execution_count": 4,
   "metadata": {},
   "outputs": [],
   "source": [
    "original_images = []\n",
    "warped_images = []\n",
    "warped_dataset = []"
   ]
  },
  {
   "cell_type": "code",
   "execution_count": 5,
   "metadata": {},
   "outputs": [],
   "source": [
    "for mon in pokemons:\n",
    "    out = gj.skew_image(\n",
    "        image_path=\"{}/{}\".format(POKEMON_DATASET_PATH, mon),\n",
    "        output_path=\"{}/{}.png\".format(POKEMON_OUTPUT_PATH, mon.split(\".\")[0])\n",
    "    )\n",
    "\n",
    "    warped = out[\"warped\"][\"corners\"]\n",
    "    warp_coords = []\n",
    "\n",
    "    for point in range(0, len(warped)):\n",
    "        warp_coords += [warped[point][0]] + [warped[point][1]]\n",
    "    warped_dataset += [warp_coords]\n",
    "    \n",
    "    original_images += [out[\"original\"][\"image\"]]\n",
    "    warped_images += [out[\"warped\"][\"image\"]]"
   ]
  },
  {
   "cell_type": "code",
   "execution_count": 6,
   "metadata": {},
   "outputs": [],
   "source": [
    "np.savez(\n",
    "    \"{}/dataset\".format(POKEMON_OUTPUT_PATH),\n",
    "    original=original_images,\n",
    "    warped=warped_images,\n",
    "    offsets=warped_dataset\n",
    ")"
   ]
  },
  {
   "cell_type": "code",
   "execution_count": 12,
   "metadata": {},
   "outputs": [],
   "source": [
    "dataset = np.load(\"{}/dataset.npz\".format(POKEMON_OUTPUT_PATH))"
   ]
  },
  {
   "cell_type": "code",
   "execution_count": 18,
   "metadata": {},
   "outputs": [
    {
     "data": {
      "text/plain": [
       "ValuesView(<numpy.lib.npyio.NpzFile object at 0x12f7d27b8>)"
      ]
     },
     "execution_count": 18,
     "metadata": {},
     "output_type": "execute_result"
    }
   ],
   "source": [
    "dataset.values()"
   ]
  },
  {
   "cell_type": "code",
   "execution_count": null,
   "metadata": {},
   "outputs": [],
   "source": []
  }
 ],
 "metadata": {
  "kernelspec": {
   "display_name": "Python 3",
   "language": "python",
   "name": "python3"
  },
  "language_info": {
   "codemirror_mode": {
    "name": "ipython",
    "version": 3
   },
   "file_extension": ".py",
   "mimetype": "text/x-python",
   "name": "python",
   "nbconvert_exporter": "python",
   "pygments_lexer": "ipython3",
   "version": "3.6.8"
  }
 },
 "nbformat": 4,
 "nbformat_minor": 4
}
